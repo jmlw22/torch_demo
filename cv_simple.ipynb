{
 "cells": [
  {
   "cell_type": "code",
   "execution_count": 52,
   "metadata": {},
   "outputs": [],
   "source": [
    "import cv2 as cv\n",
    "\n",
    "import numpy as np\n",
    "\n",
    "# img = np.zeros((512, 512, 3), np.uint8)\n",
    "img = cv.imread(r\"e:/python/check/images/liu.jpg\")\n",
    "cap = cv.VideoCapture(0)\n",
    "\n",
    "fourcc = cv.VideoWriter_fourcc(*'XVID')\n",
    "out = cv.VideoWriter('output.avi', fourcc, 20.0, (640, 480))\n",
    "\n",
    "while cap.isOpened():\n",
    "    ret, frame = cap.read()\n",
    "    if not ret:\n",
    "        print(\"open error\")\n",
    "        break\n",
    "    frame = cv.flip(frame, 0)\n",
    "    \n",
    "    # 绘制矩形，从左上角到右下角，在图像右上角（0， 255， 0）绘制一个绿色矩形\n",
    "    cv.rectangle(frame, (384, 0), (510, 128), (0, 255, 0), 3)    \n",
    "    \n",
    "    # 绘制一条厚度为5的蓝色对角线\n",
    "    cv.line(frame, (0, 0), (640, 640), (255, 0, 0), 5)\n",
    "    \n",
    "    # 绘制一个圆\n",
    "    cv.circle(frame, (447, 63), 63, (0, 0, 255), -1)\n",
    "\n",
    "    # 绘制椭圆形\n",
    "    cv.ellipse(frame, (256, 256), (100, 50), 0, 0, 180, 255, -1)\n",
    "    \n",
    "    #画多边形\n",
    "    pts = np.array([[10, 5], [20, 30], [70, 20], [50, 10]], np.int32)\n",
    "    pts = pts.reshape((-1, 1, 2))\n",
    "    cv.polylines(frame, [pts], True, (0, 255, 255))\n",
    "    #像图像增加文本\n",
    "    font = cv.FONT_HERSHEY_SIMPLEX\n",
    "    cv.putText(frame, 'OpenCV', (10, 400), font, 4, (200, 100,100), 2, cv.LINE_AA)\n",
    "    \n",
    "    out.write(frame)\n",
    "    \n",
    "    cv.imshow('aret', frame)\n",
    "    if cv.waitKey(1) == ord('q'):\n",
    "        cv.imwrite(\"outimage.png\", frame)\n",
    "        break\n",
    "cap.release()\n",
    "out.release()\n",
    "cv.destroyAllWindows()\n",
    "\n",
    "\n",
    "\n",
    "\n"
   ]
  },
  {
   "cell_type": "code",
   "execution_count": 13,
   "metadata": {},
   "outputs": [],
   "source": [
    "#  鼠标捕捉事件绘图\n",
    "\n",
    "import cv2 as cv\n",
    "import numpy as np\n",
    "\n",
    "# events = [i for i in dir(cv) if 'EVENT' in i]\n",
    "# print(events)\n",
    "\n",
    "# 鼠标回调函数\n",
    "def draw_circle(event, x, y, flags, param):\n",
    "    if event == cv.EVENT_LBUTTONDBLCLK:\n",
    "        cv.circle(img, (x, y), 100, (255, 20, 100), -1)\n",
    "        \n",
    "# 创建一个黑色的图像，一个窗口并绑定到窗口的功能\n",
    "img = np.zeros((512, 512, 3), np.uint8)\n",
    "cv.namedWindow('image')\n",
    "cv.setMouseCallback('image', draw_circle)\n",
    "while(1):\n",
    "    cv.imshow('image', img)\n",
    "    \n",
    "    if cv.waitKey(20) & 0xFF == 27:\n",
    "        break\n",
    "cv.destroyAllWindows()"
   ]
  },
  {
   "cell_type": "code",
   "execution_count": 64,
   "metadata": {},
   "outputs": [],
   "source": [
    "import numpy as np\n",
    "import cv2 as cv\n",
    "\n",
    "drawing = False # 如果按下鼠标，则为真\n",
    "mode = True # 如果为真，绘制矩形。按 m 键可以切换到曲线\n",
    "ix,iy = -1,-1\n",
    "\n",
    "# 鼠标回调函数\n",
    "def draw_circle(event,x,y,flags,param):\n",
    "    global ix,iy,drawing,mode\n",
    "    if event == cv.EVENT_LBUTTONDOWN:\n",
    "        drawing = True\n",
    "        ix,iy = x,y\n",
    "    elif event == cv.EVENT_MOUSEMOVE:\n",
    "        if drawing == True:\n",
    "            if mode == True:\n",
    "                cv.rectangle(img,(ix,iy),(x,y),(0,255,0),-1)\n",
    "            else:\n",
    "                cv.circle(img,(x,y),5,(0,0,255),-1)\n",
    "    elif event == cv.EVENT_LBUTTONUP:\n",
    "        drawing = False\n",
    "        if mode == True:\n",
    "            cv.rectangle(img,(ix,iy),(x,y),(0,255,0),-1)\n",
    "        else:\n",
    "            cv.circle(img,(x,y),5,(0,0,255),-1)"
   ]
  },
  {
   "cell_type": "code",
   "execution_count": 12,
   "metadata": {},
   "outputs": [],
   "source": [
    "# 调色板\n",
    "import cv2 as cv\n",
    "import numpy as np\n",
    "\n",
    "def nothing(x):\n",
    "    pass\n",
    "\n",
    "# 创建黑色的图像，一个窗口\n",
    "# img = np.zeros((300, 512, 3), np.int8)\n",
    "img = cv.imread(\"E:/python/check/images/dliu.jpg\")\n",
    "cv.namedWindow('image')\n",
    "\n",
    "# 创建颜色变化的轨迹栏\n",
    "cv.createTrackbar(\"R\", 'image', 0, 255, nothing)\n",
    "cv.createTrackbar('G', 'image', 0, 255, nothing)\n",
    "cv.createTrackbar('B', 'image', 0, 255, nothing)\n",
    "\n",
    "# 创建ON/OFF功能开关\n",
    "switch = '0 : OFF \\n1: ON'\n",
    "cv.createTrackbar(switch, 'image', 0, 1, nothing)\n",
    "\n",
    "while(1):\n",
    "    cv.imshow('image', img)\n",
    "    \n",
    "    if (cv.waitKey(1) & 0xFF ) == ord('q'):\n",
    "        break\n",
    "    \n",
    "    r = cv.getTrackbarPos('R', 'image')\n",
    "    g = cv.getTrackbarPos('G', 'image')\n",
    "    b = cv.getTrackbarPos('B', 'image')\n",
    "    s = cv.getTrackbarPos(switch, 'image')\n",
    "    \n",
    "    if s == 0:\n",
    "        img[:] = 0\n",
    "    \n",
    "    else:\n",
    "        img[:] = [b, g, r]\n",
    "        \n",
    "cv.destroyAllWindows()\n",
    "    \n",
    "\n"
   ]
  },
  {
   "cell_type": "code",
   "execution_count": 11,
   "metadata": {},
   "outputs": [
    {
     "name": "stdout",
     "output_type": "stream",
     "text": [
      "[102 109 182]\n",
      "102\n",
      "117\n"
     ]
    }
   ],
   "source": [
    "import numpy as np\n",
    "import cv2 as cv\n",
    "\n",
    "img = cv.imread('E:/python/check/images/liu.jpg')\n",
    "\n",
    "# 行列坐标访问像素值（BRG图像有三色）\n",
    "px = img[100, 100]\n",
    "print(px)\n",
    "\n",
    "blue = img[100, 100, 0]\n",
    "print(blue)\n",
    "\n",
    "# 单通道读入图像\n",
    "imgray = cv.imread(\"e:/python/check/images/dliu.jpg\", 0)\n",
    "pxg = imgray[100, 100]\n",
    "print(pxg)\n",
    "\n",
    "\n",
    "\n",
    "# cv.imshow('result', img)\n",
    "\n",
    "\n",
    "# if cv.waitKey(1) == ord('q'):\n",
    "#     break\n",
    "    \n"
   ]
  },
  {
   "cell_type": "code",
   "execution_count": 14,
   "metadata": {},
   "outputs": [],
   "source": [
    "import cv2 as cv\n",
    "import numpy as np\n",
    "import torch\n",
    "import matplotlib as mpt\n",
    "\n"
   ]
  },
  {
   "cell_type": "code",
   "execution_count": null,
   "metadata": {},
   "outputs": [],
   "source": []
  },
  {
   "cell_type": "code",
   "execution_count": null,
   "metadata": {},
   "outputs": [],
   "source": []
  },
  {
   "cell_type": "code",
   "execution_count": null,
   "metadata": {},
   "outputs": [],
   "source": []
  },
  {
   "cell_type": "code",
   "execution_count": null,
   "metadata": {},
   "outputs": [],
   "source": []
  },
  {
   "cell_type": "code",
   "execution_count": null,
   "metadata": {},
   "outputs": [],
   "source": []
  },
  {
   "cell_type": "code",
   "execution_count": null,
   "metadata": {},
   "outputs": [],
   "source": []
  },
  {
   "cell_type": "code",
   "execution_count": null,
   "metadata": {},
   "outputs": [],
   "source": []
  },
  {
   "cell_type": "code",
   "execution_count": null,
   "metadata": {},
   "outputs": [],
   "source": []
  },
  {
   "cell_type": "code",
   "execution_count": null,
   "metadata": {},
   "outputs": [],
   "source": []
  },
  {
   "cell_type": "code",
   "execution_count": null,
   "metadata": {},
   "outputs": [],
   "source": []
  },
  {
   "cell_type": "code",
   "execution_count": null,
   "metadata": {},
   "outputs": [],
   "source": []
  },
  {
   "cell_type": "code",
   "execution_count": null,
   "metadata": {},
   "outputs": [],
   "source": []
  },
  {
   "cell_type": "code",
   "execution_count": null,
   "metadata": {},
   "outputs": [],
   "source": []
  },
  {
   "cell_type": "code",
   "execution_count": null,
   "metadata": {},
   "outputs": [],
   "source": []
  },
  {
   "cell_type": "code",
   "execution_count": null,
   "metadata": {},
   "outputs": [],
   "source": []
  },
  {
   "cell_type": "code",
   "execution_count": null,
   "metadata": {},
   "outputs": [],
   "source": []
  },
  {
   "cell_type": "code",
   "execution_count": null,
   "metadata": {},
   "outputs": [],
   "source": []
  },
  {
   "cell_type": "code",
   "execution_count": null,
   "metadata": {},
   "outputs": [],
   "source": []
  },
  {
   "cell_type": "code",
   "execution_count": null,
   "metadata": {},
   "outputs": [],
   "source": []
  },
  {
   "cell_type": "code",
   "execution_count": null,
   "metadata": {},
   "outputs": [],
   "source": [
    "\n"
   ]
  }
 ],
 "metadata": {
  "kernelspec": {
   "display_name": "Python 3",
   "language": "python",
   "name": "python3"
  },
  "language_info": {
   "codemirror_mode": {
    "name": "ipython",
    "version": 3
   },
   "file_extension": ".py",
   "mimetype": "text/x-python",
   "name": "python",
   "nbconvert_exporter": "python",
   "pygments_lexer": "ipython3",
   "version": "3.8.3"
  }
 },
 "nbformat": 4,
 "nbformat_minor": 4
}
